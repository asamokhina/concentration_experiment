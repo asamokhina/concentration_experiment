{
 "cells": [
  {
   "cell_type": "markdown",
   "metadata": {},
   "source": [
    "### Preface"
   ]
  },
  {
   "cell_type": "markdown",
   "metadata": {},
   "source": [
    "For a while I have been curious about L-theanine, an amino acid that is found in tea leaves. There is some research showing that it can improve cognition, memory and concentration.  Check [one](https://pubmed.ncbi.nlm.nih.gov/20079786/), [two](https://www.liebertpub.com/doi/10.1089/jmf.2009.1374), [one more](https://www.sciencedirect.com/science/article/pii/S0301051107001573?via%3Dihub). But effects have been described as having \"unclear or conflicting scientific evidence\" and sometimes even \"fair negative scientific evidence\". Though if you have a look at reddit biohacking communities, it seems to work like a charm.\n",
    "\n",
    "While there is no proper body of evidence to lean to either use it or not, I decided to experiment myself. Single-Case Experimental Design  is a research design that has, of course, its drawbacks and can’t be used to generalize. But it is better evidence than “say so on the internet”. Plus, more fun."
   ]
  },
  {
   "cell_type": "markdown",
   "metadata": {},
   "source": [
    "### Links"
   ]
  },
  {
   "cell_type": "markdown",
   "metadata": {},
   "source": [
    "I was pleased to find out that there is some literature on how to conduct one.\n",
    "\n",
    "[\"Self-E - Quantified Self Experimentation\"](https://play.google.com/store/apps/details?id=edu.brown.selfe) is a nice app, that helps to avoid all the hassle with setup and statistics. Just select a hypothesis and experiment.\n",
    "\n",
    "[“Lessons Learned from Two Cohorts of Personal Informatics Self-Experiments”](http://cs.brown.edu/people/ndaskalo/SelfExperimentsPaper.pdf) is a great paper that describes  how novices run self-experiments. Also has useful guidelines.\n",
    "\n",
    "[“Design and Implementation Of N-of-1 Trials:A User’s Guide. Chapter 1”](https://effectivehealthcare.ahrq.gov/sites/default/files/pdf/n-1-trials_research-2014-5.pdf) is a helpful guide with explanations of challenges and ways to avoid them. \n",
    "\n",
    "[“Single-Case Experimental Designs: A Systematic Review of Published Research and Current Standards”](https://www.ncbi.nlm.nih.gov/pmc/articles/PMC3652808/) sums up current standards in the field.\n",
    "\n"
   ]
  },
  {
   "cell_type": "markdown",
   "metadata": {},
   "source": [
    "### Design"
   ]
  },
  {
   "cell_type": "markdown",
   "metadata": {},
   "source": [
    "In core, rules are similar to any experiment setup:\n",
    "* Create specific hypotheses you want to test.\n",
    "\n",
    "* Choose a randomized setup, that would either prove or reject your hypothesis. Maybe checkout ‘A-B-A-B design’.\n",
    "\n",
    "* Choose the method of analysis before you see data.\n",
    "\n",
    "* Stay put and conduct your experiment till the end. Be aware of tracking fatigue.\n",
    "\n",
    "There are some pitfalls to be cautious about. Keywords are `observer bias`, `p-value depends on sample size`, `carry-over effects`.\n",
    "\n",
    "I was worried that knowing when I take L-theanine and when not, would influence my judgement, So with some help of a fellow experimenter I have developed a setup that would blind me, but required the help of a second person.\n",
    "\n",
    "**Length of experiment:** 35 days\n",
    "\n",
    "**Number of AB phases:** 3\n",
    "\n",
    "**Length of phase:** 10 days (5 days for baseline (placebo) and 5 days for intervention)\n",
    "\n",
    "**Order within phase:** random in each phase\n",
    "\n",
    "**Start of the first phase:** on random day within 5 days from the beginning\n",
    "\n",
    "So a fellow experimenter has chosen a design that would tell, when does the intervention start, what was the order of phases and marked a daily l-theanine pill or placebo pill to preserve a correct order.\n",
    "\n",
    "**Preparation:**\n",
    "\n",
    "I got l-theanine from amazon. White flour was used as a placebo.\n",
    "\n",
    "**Scale to rate concentration:**\n",
    "\n",
    "1 to 10. 1 being `thoughts are jumping like rabbits` and 10 being `razor sharp mind, shocking concentration`.\n",
    "\n",
    "During the experiment I have realised, how hard it is to give a mark to the level of concentration. First, the scale had too many grades, I couldn’t make an assessment if my mind was 10-points-sharp or just 9-points-sharp. Second, if I had spent the morning productively, but then the second half of the day went all over the place, I gave a day average score, which didn’t separate it from days, when I was just fine the whole day.\n",
    "\n",
    "By the end of the experimental phase I had determined that intrinsical scale actually had only four grades: ‘bad’, ‘nothing special’, ‘pretty good’, ‘really good’. So I ended up checking both scales.\n"
   ]
  },
  {
   "cell_type": "markdown",
   "metadata": {},
   "source": [
    "### Analysis"
   ]
  },
  {
   "cell_type": "markdown",
   "metadata": {},
   "source": [
    "Dataframe shows a score I gave to my concentration level on that day, then a simplified score that I have discussed earlier whether this day I got l-theanine (`1`) or placebo (`0`)."
   ]
  },
  {
   "cell_type": "code",
   "execution_count": 116,
   "metadata": {},
   "outputs": [
    {
     "data": {
      "text/html": [
       "<div>\n",
       "<style scoped>\n",
       "    .dataframe tbody tr th:only-of-type {\n",
       "        vertical-align: middle;\n",
       "    }\n",
       "\n",
       "    .dataframe tbody tr th {\n",
       "        vertical-align: top;\n",
       "    }\n",
       "\n",
       "    .dataframe thead th {\n",
       "        text-align: right;\n",
       "    }\n",
       "</style>\n",
       "<table border=\"1\" class=\"dataframe\">\n",
       "  <thead>\n",
       "    <tr style=\"text-align: right;\">\n",
       "      <th></th>\n",
       "      <th>score</th>\n",
       "      <th>simple_score</th>\n",
       "      <th>intervention</th>\n",
       "    </tr>\n",
       "  </thead>\n",
       "  <tbody>\n",
       "    <tr>\n",
       "      <th>2020-02-16</th>\n",
       "      <td>7</td>\n",
       "      <td>2</td>\n",
       "      <td>0.0</td>\n",
       "    </tr>\n",
       "    <tr>\n",
       "      <th>2020-02-17</th>\n",
       "      <td>7</td>\n",
       "      <td>2</td>\n",
       "      <td>0.0</td>\n",
       "    </tr>\n",
       "    <tr>\n",
       "      <th>2020-02-18</th>\n",
       "      <td>4</td>\n",
       "      <td>1</td>\n",
       "      <td>0.0</td>\n",
       "    </tr>\n",
       "    <tr>\n",
       "      <th>2020-02-19</th>\n",
       "      <td>5</td>\n",
       "      <td>1</td>\n",
       "      <td>1.0</td>\n",
       "    </tr>\n",
       "    <tr>\n",
       "      <th>2020-02-20</th>\n",
       "      <td>6</td>\n",
       "      <td>1</td>\n",
       "      <td>1.0</td>\n",
       "    </tr>\n",
       "    <tr>\n",
       "      <th>2020-02-21</th>\n",
       "      <td>5</td>\n",
       "      <td>1</td>\n",
       "      <td>1.0</td>\n",
       "    </tr>\n",
       "    <tr>\n",
       "      <th>2020-02-22</th>\n",
       "      <td>5</td>\n",
       "      <td>1</td>\n",
       "      <td>1.0</td>\n",
       "    </tr>\n",
       "    <tr>\n",
       "      <th>2020-02-23</th>\n",
       "      <td>5</td>\n",
       "      <td>1</td>\n",
       "      <td>1.0</td>\n",
       "    </tr>\n",
       "    <tr>\n",
       "      <th>2020-02-24</th>\n",
       "      <td>4</td>\n",
       "      <td>1</td>\n",
       "      <td>0.0</td>\n",
       "    </tr>\n",
       "    <tr>\n",
       "      <th>2020-02-25</th>\n",
       "      <td>8</td>\n",
       "      <td>2</td>\n",
       "      <td>0.0</td>\n",
       "    </tr>\n",
       "    <tr>\n",
       "      <th>2020-02-26</th>\n",
       "      <td>3</td>\n",
       "      <td>0</td>\n",
       "      <td>0.0</td>\n",
       "    </tr>\n",
       "    <tr>\n",
       "      <th>2020-02-27</th>\n",
       "      <td>7</td>\n",
       "      <td>2</td>\n",
       "      <td>0.0</td>\n",
       "    </tr>\n",
       "    <tr>\n",
       "      <th>2020-02-28</th>\n",
       "      <td>8</td>\n",
       "      <td>2</td>\n",
       "      <td>0.0</td>\n",
       "    </tr>\n",
       "    <tr>\n",
       "      <th>2020-02-29</th>\n",
       "      <td>9</td>\n",
       "      <td>3</td>\n",
       "      <td>0.0</td>\n",
       "    </tr>\n",
       "    <tr>\n",
       "      <th>2020-03-01</th>\n",
       "      <td>8</td>\n",
       "      <td>2</td>\n",
       "      <td>0.0</td>\n",
       "    </tr>\n",
       "    <tr>\n",
       "      <th>2020-03-02</th>\n",
       "      <td>5</td>\n",
       "      <td>1</td>\n",
       "      <td>0.0</td>\n",
       "    </tr>\n",
       "    <tr>\n",
       "      <th>2020-03-03</th>\n",
       "      <td>5</td>\n",
       "      <td>1</td>\n",
       "      <td>0.0</td>\n",
       "    </tr>\n",
       "    <tr>\n",
       "      <th>2020-03-04</th>\n",
       "      <td>3</td>\n",
       "      <td>0</td>\n",
       "      <td>0.0</td>\n",
       "    </tr>\n",
       "    <tr>\n",
       "      <th>2020-03-05</th>\n",
       "      <td>4</td>\n",
       "      <td>1</td>\n",
       "      <td>1.0</td>\n",
       "    </tr>\n",
       "    <tr>\n",
       "      <th>2020-03-06</th>\n",
       "      <td>5</td>\n",
       "      <td>1</td>\n",
       "      <td>1.0</td>\n",
       "    </tr>\n",
       "    <tr>\n",
       "      <th>2020-03-07</th>\n",
       "      <td>6</td>\n",
       "      <td>1</td>\n",
       "      <td>1.0</td>\n",
       "    </tr>\n",
       "    <tr>\n",
       "      <th>2020-03-08</th>\n",
       "      <td>7</td>\n",
       "      <td>2</td>\n",
       "      <td>1.0</td>\n",
       "    </tr>\n",
       "    <tr>\n",
       "      <th>2020-03-09</th>\n",
       "      <td>3</td>\n",
       "      <td>0</td>\n",
       "      <td>1.0</td>\n",
       "    </tr>\n",
       "    <tr>\n",
       "      <th>2020-03-10</th>\n",
       "      <td>8</td>\n",
       "      <td>2</td>\n",
       "      <td>0.0</td>\n",
       "    </tr>\n",
       "    <tr>\n",
       "      <th>2020-03-11</th>\n",
       "      <td>8</td>\n",
       "      <td>2</td>\n",
       "      <td>0.0</td>\n",
       "    </tr>\n",
       "    <tr>\n",
       "      <th>2020-03-12</th>\n",
       "      <td>4</td>\n",
       "      <td>1</td>\n",
       "      <td>0.0</td>\n",
       "    </tr>\n",
       "    <tr>\n",
       "      <th>2020-03-13</th>\n",
       "      <td>3</td>\n",
       "      <td>0</td>\n",
       "      <td>0.0</td>\n",
       "    </tr>\n",
       "    <tr>\n",
       "      <th>2020-03-14</th>\n",
       "      <td>6</td>\n",
       "      <td>1</td>\n",
       "      <td>0.0</td>\n",
       "    </tr>\n",
       "    <tr>\n",
       "      <th>2020-03-15</th>\n",
       "      <td>5</td>\n",
       "      <td>1</td>\n",
       "      <td>1.0</td>\n",
       "    </tr>\n",
       "    <tr>\n",
       "      <th>2020-03-16</th>\n",
       "      <td>9</td>\n",
       "      <td>3</td>\n",
       "      <td>1.0</td>\n",
       "    </tr>\n",
       "    <tr>\n",
       "      <th>2020-03-17</th>\n",
       "      <td>9</td>\n",
       "      <td>3</td>\n",
       "      <td>1.0</td>\n",
       "    </tr>\n",
       "    <tr>\n",
       "      <th>2020-03-18</th>\n",
       "      <td>6</td>\n",
       "      <td>1</td>\n",
       "      <td>1.0</td>\n",
       "    </tr>\n",
       "    <tr>\n",
       "      <th>2020-03-19</th>\n",
       "      <td>5</td>\n",
       "      <td>1</td>\n",
       "      <td>1.0</td>\n",
       "    </tr>\n",
       "    <tr>\n",
       "      <th>2020-03-20</th>\n",
       "      <td>5</td>\n",
       "      <td>1</td>\n",
       "      <td>0.0</td>\n",
       "    </tr>\n",
       "    <tr>\n",
       "      <th>2020-03-21</th>\n",
       "      <td>5</td>\n",
       "      <td>1</td>\n",
       "      <td>0.0</td>\n",
       "    </tr>\n",
       "  </tbody>\n",
       "</table>\n",
       "</div>"
      ],
      "text/plain": [
       "            score  simple_score  intervention\n",
       "2020-02-16      7             2           0.0\n",
       "2020-02-17      7             2           0.0\n",
       "2020-02-18      4             1           0.0\n",
       "2020-02-19      5             1           1.0\n",
       "2020-02-20      6             1           1.0\n",
       "2020-02-21      5             1           1.0\n",
       "2020-02-22      5             1           1.0\n",
       "2020-02-23      5             1           1.0\n",
       "2020-02-24      4             1           0.0\n",
       "2020-02-25      8             2           0.0\n",
       "2020-02-26      3             0           0.0\n",
       "2020-02-27      7             2           0.0\n",
       "2020-02-28      8             2           0.0\n",
       "2020-02-29      9             3           0.0\n",
       "2020-03-01      8             2           0.0\n",
       "2020-03-02      5             1           0.0\n",
       "2020-03-03      5             1           0.0\n",
       "2020-03-04      3             0           0.0\n",
       "2020-03-05      4             1           1.0\n",
       "2020-03-06      5             1           1.0\n",
       "2020-03-07      6             1           1.0\n",
       "2020-03-08      7             2           1.0\n",
       "2020-03-09      3             0           1.0\n",
       "2020-03-10      8             2           0.0\n",
       "2020-03-11      8             2           0.0\n",
       "2020-03-12      4             1           0.0\n",
       "2020-03-13      3             0           0.0\n",
       "2020-03-14      6             1           0.0\n",
       "2020-03-15      5             1           1.0\n",
       "2020-03-16      9             3           1.0\n",
       "2020-03-17      9             3           1.0\n",
       "2020-03-18      6             1           1.0\n",
       "2020-03-19      5             1           1.0\n",
       "2020-03-20      5             1           0.0\n",
       "2020-03-21      5             1           0.0"
      ]
     },
     "execution_count": 116,
     "metadata": {},
     "output_type": "execute_result"
    }
   ],
   "source": [
    "result = pd.read_csv('results.csv', index_col=0)\n",
    "result"
   ]
  },
  {
   "cell_type": "markdown",
   "metadata": {},
   "source": [
    "First, I just wanted to have a glance, how different are distributions of scores in both scales."
   ]
  },
  {
   "cell_type": "code",
   "execution_count": 125,
   "metadata": {},
   "outputs": [
    {
     "data": {
      "image/png": "[encoded data removed]",
      "text/plain": [
       "<Figure size 1080x432 with 2 Axes>"
      ]
     },
     "metadata": {
      "needs_background": "light"
     },
     "output_type": "display_data"
    }
   ],
   "source": [
    "fig, ax = plt.subplots(1, 2, figsize=(15,6))\n",
    "ax[0].hist(with_i, bins=list(range(2, 11)), color='#004680')\n",
    "ax[0].set_title('intervention')\n",
    "ax[1].hist(without_i, bins=list(range(2, 11)), color='#004680')\n",
    "ax[1].set_title('baseline')\n",
    "plt.show()"
   ]
  },
  {
   "cell_type": "code",
   "execution_count": 127,
   "metadata": {},
   "outputs": [
    {
     "data": {
      "image/png": "[encoded data removed]",
      "text/plain": [
       "<Figure size 1080x432 with 2 Axes>"
      ]
     },
     "metadata": {
      "needs_background": "light"
     },
     "output_type": "display_data"
    }
   ],
   "source": [
    "fig, ax = plt.subplots(1, 2, figsize=(15,6))\n",
    "ax[0].hist(with_i_simple, bins=list(range(0, 4)), color='#004680')\n",
    "ax[0].set_title('intervention')\n",
    "ax[1].hist(without_i_simple, bins=list(range(0, 4)), color='#004680')\n",
    "ax[1].set_title('baseline')\n",
    "plt.show()"
   ]
  },
  {
   "cell_type": "markdown",
   "metadata": {},
   "source": [
    "Dadum tss! Does it look totally random to you? To me too. Let’s check ANOVA, which tests the null hypothesis that two groups have the same mean.\n"
   ]
  },
  {
   "cell_type": "code",
   "execution_count": 83,
   "metadata": {},
   "outputs": [
    {
     "data": {
      "text/plain": [
       "F_onewayResult(statistic=0.08497371837160306, pvalue=0.7724915807942058)"
      ]
     },
     "execution_count": 83,
     "metadata": {},
     "output_type": "execute_result"
    }
   ],
   "source": [
    "with_i = result.loc[result['intervention']==1]['score']\n",
    "without_i = result.loc[result['intervention']==0]['score']\n",
    "\n",
    "stats.f_oneway(with_i, without_i)"
   ]
  },
  {
   "cell_type": "code",
   "execution_count": 75,
   "metadata": {},
   "outputs": [
    {
     "data": {
      "text/plain": [
       "F_onewayResult(statistic=0.0914330045439433, pvalue=0.7642609587622116)"
      ]
     },
     "execution_count": 75,
     "metadata": {},
     "output_type": "execute_result"
    }
   ],
   "source": [
    "with_i_simple = result.loc[result['intervention']==1]['simple_score']\n",
    "without_i_simple = result.loc[result['intervention']==0]['simple_score']\n",
    "\n",
    "stats.f_oneway(with_i_simple, without_i_simple)"
   ]
  },
  {
   "cell_type": "markdown",
   "metadata": {},
   "source": [
    "Oh, well, there is no difference between taking an actual supplement or placebo. They tell you that no result is also a result, but you know, wouldn’t it be great to have a supplement that makes you ninja-concentrated?\n",
    "\n",
    "So bring a bit more fun to such a not existing result, have a look at my concentration assessment."
   ]
  },
  {
   "cell_type": "code",
   "execution_count": 106,
   "metadata": {},
   "outputs": [
    {
     "data": {
      "text/plain": [
       "[<matplotlib.lines.Line2D at 0x7f46be3bd790>]"
      ]
     },
     "execution_count": 106,
     "metadata": {},
     "output_type": "execute_result"
    },
    {
     "data": {
      "image/png": "[encoded data removed]",
      "text/plain": [
       "<Figure size 432x288 with 1 Axes>"
      ]
     },
     "metadata": {
      "needs_background": "light"
     },
     "output_type": "display_data"
    }
   ],
   "source": [
    "plt.plot(range(0, 35), result['score'])"
   ]
  },
  {
   "cell_type": "markdown",
   "metadata": {},
   "source": [
    "Does it remind you of anything? Right! Absolutely random data!"
   ]
  },
  {
   "cell_type": "code",
   "execution_count": 101,
   "metadata": {},
   "outputs": [
    {
     "data": {
      "text/plain": [
       "[<matplotlib.lines.Line2D at 0x7f46be60c410>]"
      ]
     },
     "execution_count": 101,
     "metadata": {},
     "output_type": "execute_result"
    },
    {
     "data": {
      "image/png": "[encoded data removed]",
      "text/plain": [
       "<Figure size 432x288 with 1 Axes>"
      ]
     },
     "metadata": {
      "needs_background": "light"
     },
     "output_type": "display_data"
    }
   ],
   "source": [
    "plt.plot(np.random.choice(range(3, 10), size=35))"
   ]
  }
 ],
 "metadata": {
  "kernelspec": {
   "display_name": "Python 3.6.5 64-bit ('anaconda3': virtualenv)",
   "language": "python",
   "name": "python36564bitanaconda3virtualenv62dfd2461f1941e0a8c601de5f81d7d2"
  },
  "language_info": {
   "codemirror_mode": {
    "name": "ipython",
    "version": 3
   },
   "file_extension": ".py",
   "mimetype": "text/x-python",
   "name": "python",
   "nbconvert_exporter": "python",
   "pygments_lexer": "ipython3",
   "version": "3.7.4"
  }
 },
 "nbformat": 4,
 "nbformat_minor": 2
}
